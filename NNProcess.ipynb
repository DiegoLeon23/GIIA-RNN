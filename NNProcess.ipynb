{
 "cells": [
  {
   "source": [
    "# DESARROLLO DE LA TAREA (APLICACION DE REDES NEURONALES)"
   ],
   "cell_type": "markdown",
   "metadata": {}
  },
  {
   "source": [
    "__Primera Capa__"
   ],
   "cell_type": "markdown",
   "metadata": {}
  },
  {
   "cell_type": "code",
   "execution_count": 75,
   "metadata": {},
   "outputs": [],
   "source": [
    "import numpy as np\n",
    "import math"
   ]
  },
  {
   "cell_type": "code",
   "execution_count": 76,
   "metadata": {},
   "outputs": [],
   "source": [
    "def calcular_salida(p,w,b):\n",
    "    r=p.dot(w)+b\n",
    "    return r"
   ]
  },
  {
   "cell_type": "code",
   "execution_count": 77,
   "metadata": {},
   "outputs": [],
   "source": [
    "p=np.array([0.1,0.2,0.7])\n",
    "w=np.array([[0.1,0.4,0.3],[0.3,0.7,0.7],[0.5,0.2,0.9]])\n",
    "b=np.array([1.0,1.0,1.0])\n",
    "p_capa1=calcular_salida(p,w,b)\n"
   ]
  },
  {
   "source": [
    "__Segunda Capa__"
   ],
   "cell_type": "markdown",
   "metadata": {}
  },
  {
   "cell_type": "code",
   "execution_count": 84,
   "metadata": {},
   "outputs": [
    {
     "output_type": "execute_result",
     "data": {
      "text/plain": [
       "array([2.94, 1.85, 2.06])"
      ]
     },
     "metadata": {},
     "execution_count": 84
    }
   ],
   "source": [
    "p=p_capa1\n",
    "w=np.array([[0.2,0.1,0.4],[0.3,0.4,0.1],[0.7,0.1,0.2]])\n",
    "b=np.array([1.0,1.0,1.0])\n",
    "p=calcular_salida(p,w,b)\n",
    "p"
   ]
  },
  {
   "cell_type": "code",
   "execution_count": 85,
   "metadata": {},
   "outputs": [],
   "source": [
    "def sigmoid(p):\n",
    "    return 1 / (1+np.exp(-x))\n",
    "p_sigmoid=sigmoid(p)"
   ]
  },
  {
   "source": [
    "p_sigmoid\n"
   ],
   "cell_type": "code",
   "metadata": {},
   "execution_count": 86,
   "outputs": [
    {
     "output_type": "execute_result",
     "data": {
      "text/plain": [
       "array([0.80533842, 0.78918171, 0.85814894])"
      ]
     },
     "metadata": {},
     "execution_count": 86
    }
   ]
  },
  {
   "source": [
    "__Tercera Capa__"
   ],
   "cell_type": "markdown",
   "metadata": {}
  },
  {
   "cell_type": "code",
   "execution_count": 87,
   "metadata": {},
   "outputs": [
    {
     "output_type": "execute_result",
     "data": {
      "text/plain": [
       "array([1.96199313, 2.32960825, 2.22676857])"
      ]
     },
     "metadata": {},
     "execution_count": 87
    }
   ],
   "source": [
    "p=p_sigmoid\n",
    "w=np.array([[0.5,0.3,0.1],[0.6,0.4,0.8],[0.1,0.9,0.6]])\n",
    "b=np.array([1.0,1.0,1.0])\n",
    "p=calcular_salida(p,w,b)\n",
    "p "
   ]
  },
  {
   "cell_type": "code",
   "execution_count": 88,
   "metadata": {},
   "outputs": [],
   "source": [
    "# Funcion Softmax\n",
    "def softmax(p):\n",
    "\te = np.exp(p)\n",
    "\treturn e / e.sum()\n",
    "p_softmax=softmax(p)"
   ]
  },
  {
   "cell_type": "code",
   "execution_count": 89,
   "metadata": {},
   "outputs": [
    {
     "output_type": "execute_result",
     "data": {
      "text/plain": [
       "array([0.26684995, 0.38540766, 0.34774239])"
      ]
     },
     "metadata": {},
     "execution_count": 89
    }
   ],
   "source": [
    "p_softmax"
   ]
  },
  {
   "source": [
    "**_Usando la entropia cruzada para evaluar el error_**"
   ],
   "cell_type": "markdown",
   "metadata": {}
  },
  {
   "cell_type": "code",
   "execution_count": 91,
   "metadata": {},
   "outputs": [],
   "source": [
    "targets=np.array([1.0,0.0,0.0])"
   ]
  },
  {
   "cell_type": "code",
   "execution_count": 96,
   "metadata": {},
   "outputs": [],
   "source": [
    "#Funcion para obtener el valor de la entropia cruzada\n",
    "def cross_entropy (predictions, targets): \n",
    "    predictions = np.clip(predictions, 1e-10, 1. -(1e-10)) \n",
    "    N = predictions.shape[0]\n",
    "    ce = -np.sum(targets*np.log(predictions+1e-9))/N\n",
    "    return ce"
   ]
  },
  {
   "source": [
    "    Con SOFTMAX"
   ],
   "cell_type": "markdown",
   "metadata": {}
  },
  {
   "cell_type": "code",
   "execution_count": 97,
   "metadata": {},
   "outputs": [
    {
     "output_type": "execute_result",
     "data": {
      "text/plain": [
       "0.4403562554971829"
      ]
     },
     "metadata": {},
     "execution_count": 97
    }
   ],
   "source": [
    "cross_entropy (p_softmax, targets)"
   ]
  },
  {
   "source": [
    "    CON EL RESULTADO DE LA SEGUNDA CAPA"
   ],
   "cell_type": "markdown",
   "metadata": {}
  },
  {
   "cell_type": "code",
   "execution_count": 98,
   "metadata": {},
   "outputs": [
    {
     "output_type": "execute_result",
     "data": {
      "text/plain": [
       "0.07216423186944051"
      ]
     },
     "metadata": {},
     "execution_count": 98
    }
   ],
   "source": [
    "cross_entropy (p_sigmoid, targets)"
   ]
  }
 ],
 "metadata": {
  "kernelspec": {
   "display_name": "Python 3",
   "language": "python",
   "name": "python3"
  }
 },
 "nbformat": 4,
 "nbformat_minor": 4
}