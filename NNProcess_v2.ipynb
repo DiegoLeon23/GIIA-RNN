{
 "cells": [
  {
   "source": [
    "# DESARROLLO DE LA TAREA (APLICACION DE REDES NEURONALES)"
   ],
   "cell_type": "markdown",
   "metadata": {}
  },
  {
   "cell_type": "code",
   "execution_count": 15,
   "metadata": {},
   "outputs": [],
   "source": [
    "import numpy as np\n",
    "import math"
   ]
  },
  {
   "source": [
    "__Entrada, pesos y target__"
   ],
   "cell_type": "markdown",
   "metadata": {}
  },
  {
   "cell_type": "code",
   "execution_count": 39,
   "metadata": {},
   "outputs": [],
   "source": [
    "target=np.array([1.0,0.0,0.0])\n",
    "w1=np.around(np.random.rand(3,3),2)\n",
    "w2=np.around(np.random.rand(3,3),2)\n",
    "w3=np.around(np.random.rand(3,3),2)\n",
    "entrada=np.array([0.1,0.2,0.7])\n",
    "b=np.array([1.0,1.0,1.0])\n",
    "w=np.array([w1,w2,w3])"
   ]
  },
  {
   "source": [
    "__Funciones a utilizar__"
   ],
   "cell_type": "markdown",
   "metadata": {}
  },
  {
   "cell_type": "code",
   "execution_count": 17,
   "metadata": {},
   "outputs": [],
   "source": [
    "def calcular_salida(p,w,b):\n",
    "    r=p.dot(w)+b\n",
    "    return r"
   ]
  },
  {
   "cell_type": "code",
   "execution_count": 18,
   "metadata": {},
   "outputs": [],
   "source": [
    "def relu(p):\n",
    "    return np.maximum(0,p)"
   ]
  },
  {
   "cell_type": "code",
   "execution_count": 33,
   "metadata": {},
   "outputs": [],
   "source": [
    "def sigmoid(p):\n",
    "    return 1 / (1+np.exp(-p))"
   ]
  },
  {
   "cell_type": "code",
   "execution_count": 20,
   "metadata": {},
   "outputs": [],
   "source": [
    "# Funcion Softmax\n",
    "def softmax(p):\n",
    "\te = np.exp(p)\n",
    "\treturn e / e.sum()"
   ]
  },
  {
   "cell_type": "code",
   "execution_count": 21,
   "metadata": {},
   "outputs": [],
   "source": [
    "#Funcion para obtener el valor de la entropia cruzada\n",
    "def cross_entropy (predictions, targets): \n",
    "    predictions = np.clip(predictions, 1e-10, 1. -(1e-10)) \n",
    "    N = predictions.shape[0]\n",
    "    ce = -np.sum(targets*np.log(predictions+1e-9))/N\n",
    "    return ce"
   ]
  },
  {
   "source": [
    "__Funciones derivadas__"
   ],
   "cell_type": "markdown",
   "metadata": {}
  },
  {
   "cell_type": "code",
   "execution_count": 22,
   "metadata": {},
   "outputs": [],
   "source": [
    "def deriv_sigmoid(p):\n",
    "     return sigmoid(p)*(1-sigmoid(p))"
   ]
  },
  {
   "cell_type": "code",
   "execution_count": 23,
   "metadata": {},
   "outputs": [],
   "source": [
    "def deriv_relu(p, alpha=.01):\n",
    "     return np.array ([1 if i >= 0 else alpha for i in p])"
   ]
  },
  {
   "cell_type": "code",
   "execution_count": 24,
   "metadata": {},
   "outputs": [],
   "source": [
    "def deriv_softmax(p):\n",
    "\treturn (np.exp(p[0])*(np.exp(p[1])+ np.exp(p[2])))/(np.exp(p[0])+np.exp(p[1])+ np.exp(p[2]))**2"
   ]
  },
  {
   "cell_type": "code",
   "execution_count": 25,
   "metadata": {},
   "outputs": [],
   "source": [
    "def deriv_entropy(predictions,targets):\n",
    "    return (-1)*np.sum([predictions[i]*1/targets[i] + (1-predictions[i])*(1/(1-targets[i])) for i in range(0,3)])"
   ]
  },
  {
   "source": [
    "# PRIMERA CAPA"
   ],
   "cell_type": "markdown",
   "metadata": {}
  },
  {
   "cell_type": "code",
   "execution_count": 31,
   "metadata": {},
   "outputs": [],
   "source": [
    "salida_capa1=calcular_salida(entrada,w1,b)"
   ]
  },
  {
   "cell_type": "code",
   "execution_count": 30,
   "metadata": {},
   "outputs": [
    {
     "output_type": "execute_result",
     "data": {
      "text/plain": [
       "array([1.366, 1.561, 1.682])"
      ]
     },
     "metadata": {},
     "execution_count": 30
    }
   ],
   "source": [
    "#aplicandoRelu\n",
    "salida_capa1=relu(salida_capa1)\n",
    "salida_capa1"
   ]
  },
  {
   "source": [
    "# Segunda Capa"
   ],
   "cell_type": "markdown",
   "metadata": {}
  },
  {
   "cell_type": "code",
   "execution_count": 34,
   "metadata": {},
   "outputs": [
    {
     "output_type": "execute_result",
     "data": {
      "text/plain": [
       "array([0.96975698, 0.98426659, 0.94174914])"
      ]
     },
     "metadata": {},
     "execution_count": 34
    }
   ],
   "source": [
    "entrada_capa2=salida_capa1\n",
    "salida_capa2=calcular_salida(entrada_capa2,w2,b)\n",
    "salida_capa2=sigmoid(salida_capa2)\n",
    "salida_capa2"
   ]
  },
  {
   "source": [
    "# Tercera Capa"
   ],
   "cell_type": "markdown",
   "metadata": {}
  },
  {
   "cell_type": "code",
   "execution_count": 35,
   "metadata": {},
   "outputs": [
    {
     "output_type": "execute_result",
     "data": {
      "text/plain": [
       "array([0.24640923, 0.55560647, 0.1979843 ])"
      ]
     },
     "metadata": {},
     "execution_count": 35
    }
   ],
   "source": [
    "entrada_capa3=salida_capa2\n",
    "salida_capa3=calcular_salida(entrada_capa3,w3,b)\n",
    "salida_capa3=softmax(salida_capa3)\n",
    "salida_capa3"
   ]
  },
  {
   "source": [
    "# Usando la entropia cruzada para evaluar el error"
   ],
   "cell_type": "markdown",
   "metadata": {}
  },
  {
   "cell_type": "code",
   "execution_count": 37,
   "metadata": {},
   "outputs": [
    {
     "output_type": "execute_result",
     "data": {
      "text/plain": [
       "0.4669205262864546"
      ]
     },
     "metadata": {},
     "execution_count": 37
    }
   ],
   "source": [
    "cross_entropy (salida_capa3, target)\n"
   ]
  }
 ],
 "metadata": {
  "kernelspec": {
   "display_name": "Python 3",
   "language": "python",
   "name": "python3"
  }
 },
 "nbformat": 4,
 "nbformat_minor": 4
}